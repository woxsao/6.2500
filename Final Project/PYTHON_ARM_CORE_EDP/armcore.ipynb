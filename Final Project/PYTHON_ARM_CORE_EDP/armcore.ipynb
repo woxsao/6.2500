{
 "cells": [
  {
   "cell_type": "code",
   "execution_count": 9,
   "metadata": {},
   "outputs": [
    {
     "data": {
      "text/html": [
       "<style>\n",
       "        .checkbox-label-blue > .widget-label-basic {color: #0000DD; font-weight: bold;}\n",
       "        .checkbox-label-green > .widget-label-basic {color: #00BB00; font-weight: bold;}\n",
       "        .checkbox-label-red > .widget-label-basic {color: #DD0000; font-weight: bold;}\n",
       "        </style>"
      ],
      "text/plain": [
       "<IPython.core.display.HTML object>"
      ]
     },
     "metadata": {},
     "output_type": "display_data"
    },
    {
     "data": {
      "application/vnd.jupyter.widget-view+json": {
       "model_id": "caec8ced70154939b952d1f3eb502e0a",
       "version_major": 2,
       "version_minor": 0
      },
      "text/plain": [
       "HBox(children=(VBox(children=(VBox(children=(HBox(children=(Label(value='MOSFET Parameters From Sentaurus', la…"
      ]
     },
     "metadata": {},
     "output_type": "display_data"
    }
   ],
   "source": [
    "%matplotlib widget\n",
    "import edp\n",
    "import importlib\n",
    "# force reload edp, used during development while modifying edp.py\n",
    "importlib.reload(edp)\n",
    "\n",
    "gui = edp.EDPGui()\n",
    "gui.display()"
   ]
  },
  {
   "cell_type": "code",
   "execution_count": 8,
   "metadata": {},
   "outputs": [
    {
     "name": "stdout",
     "output_type": "stream",
     "text": [
      "1.1864406779661016\n"
     ]
    }
   ],
   "source": [
    "ls_orig = 50\n",
    "ts_orig = 35\n",
    "epsilon_ox_orig = 3.9*8.85e-14\n",
    "\n",
    "Cgs_orig = ls_orig*epsilon_ox_orig/ts_orig\n",
    "\n",
    "\n",
    "L_ox_orig = 35\n",
    "t_ox_orig = 5\n",
    "Cgc_orig = L_ox_orig*epsilon_ox_orig/t_ox_orig\n",
    "\n",
    "original_cap = Cgs_orig + Cgc_orig\n",
    "\n",
    "\n",
    "\n",
    "#EDIT THESE===================================\n",
    "ls = 50\n",
    "ts = 40\n",
    "epsilon_ox = 3.9*8.85e-14\n",
    "\n",
    "Cgs = ls*epsilon_ox/ts\n",
    "\n",
    "\n",
    "L_ox = 35\n",
    "t_ox = 4\n",
    "Cgc = L_ox*epsilon_ox/t_ox\n",
    "\n",
    "print((Cgs + Cgc)/original_cap)"
   ]
  }
 ],
 "metadata": {
  "kernelspec": {
   "display_name": "base",
   "language": "python",
   "name": "python3"
  },
  "language_info": {
   "codemirror_mode": {
    "name": "ipython",
    "version": 3
   },
   "file_extension": ".py",
   "mimetype": "text/x-python",
   "name": "python",
   "nbconvert_exporter": "python",
   "pygments_lexer": "ipython3",
   "version": "3.10.6"
  },
  "orig_nbformat": 4
 },
 "nbformat": 4,
 "nbformat_minor": 2
}
